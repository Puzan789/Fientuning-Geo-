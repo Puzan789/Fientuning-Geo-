{
 "cells": [
  {
   "cell_type": "code",
   "execution_count": null,
   "id": "b1cf9f94",
   "metadata": {},
   "outputs": [
    {
     "name": "stdout",
     "output_type": "stream",
     "text": [
      "Converted and saved to hack1.json\n"
     ]
    }
   ],
   "source": [
    "import json\n",
    "\n",
    "def convert_qa_json_format(json_path):\n",
    "    with open(json_path, \"r\", encoding=\"utf-8\") as f:\n",
    "        data = json.load(f)\n",
    "    if isinstance(data, list) and all(isinstance(item, dict) and \"question\" in item and \"answer\" in item for item in data):\n",
    "        print(\"JSON is already in the desired format.\")\n",
    "        return\n",
    "    questions = data.get(\"question\", [])\n",
    "    answers = data.get(\"answer\", [])\n",
    "    qa_list = [{\"question\": q, \"answer\": a} for q, a in zip(questions, answers)]\n",
    "    with open(json_path, \"w\", encoding=\"utf-8\") as f:\n",
    "        json.dump(qa_list, f, ensure_ascii=False, indent=4)\n",
    "    print(f\"Converted and saved to {json_path}\")\n",
    "\n",
    "\n",
    "convert_qa_json_format(\"hack1.json\")"
   ]
  },
  {
   "cell_type": "code",
   "execution_count": null,
   "id": "a799c58a",
   "metadata": {},
   "outputs": [
    {
     "name": "stdout",
     "output_type": "stream",
     "text": [
      "Modified JSON has been saved to output.json\n"
     ]
    }
   ],
   "source": [
    "\n",
    "def modify_json_values(json_data):\n",
    "    if isinstance(json_data, list):\n",
    "\n",
    "        for item in json_data:\n",
    "            if \"question\" in item and \"answer\" in item:\n",
    "                question = item['question']\n",
    "                answer = item['answer']\n",
    "                item['question'] = f\"<s>[INST] {question} [/INST] {answer} </s>\"\n",
    "                # Remove the 'answer' key as it is now part of the 'question'\n",
    "                del item['answer']\n",
    "    return json_data\n",
    "\n",
    "\n",
    "def open_modify_save_json(input_file, output_file):\n",
    "    try:\n",
    "        # Read the JSON file\n",
    "        with open(input_file, 'r') as file:\n",
    "            data = json.load(file)\n",
    "        \n",
    "        modified_data = modify_json_values(data)\n",
    "        \n",
    "        # Save the modified JSON back to a new file\n",
    "        with open(output_file, 'w') as file:\n",
    "            json.dump(modified_data, file, indent=4)\n",
    "        \n",
    "        print(f\"Modified JSON has been saved to {output_file}\")\n",
    "    \n",
    "    except Exception as e:\n",
    "        print(f\"An error occurred: {e}\")\n",
    "\n",
    "# Example usage\n",
    "input_file = 'hack1.json' \n",
    "output_file = 'output.json'  \n",
    "# Call the function to open, modify, and save the JSON\n",
    "open_modify_save_json(input_file, output_file)"
   ]
  },
  {
   "cell_type": "code",
   "execution_count": null,
   "id": "029ebb60",
   "metadata": {},
   "outputs": [],
   "source": []
  }
 ],
 "metadata": {
  "kernelspec": {
   "display_name": "study",
   "language": "python",
   "name": "python3"
  },
  "language_info": {
   "codemirror_mode": {
    "name": "ipython",
    "version": 3
   },
   "file_extension": ".py",
   "mimetype": "text/x-python",
   "name": "python",
   "nbconvert_exporter": "python",
   "pygments_lexer": "ipython3",
   "version": "3.12.9"
  }
 },
 "nbformat": 4,
 "nbformat_minor": 5
}
